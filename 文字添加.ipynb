{
 "cells": [
  {
   "cell_type": "code",
   "execution_count": 4,
   "metadata": {},
   "outputs": [],
   "source": [
    "import cv2\n",
    "from PIL import ImageFont, ImageDraw, Image\n",
    "import numpy as np\n",
    "import os\n",
    "\n",
    "# 设置需要处理的文件夹路径和新文件夹路径\n",
    "input_folder = \"output\\chijing\"\n",
    "output_folder = \"text+image\"\n",
    "\n",
    "# 获取文件夹中的所有图片文件名\n",
    "image_files = os.listdir(input_folder)\n",
    "\n",
    "# 遍历每个图片文件\n",
    "for image_file in image_files:\n",
    "    # 读取图片\n",
    "    image_path = os.path.join(input_folder, image_file)\n",
    "    bk_img = cv2.imread(image_path)\n",
    "    \n",
    "    # 设置需要显示的字体\n",
    "    fontpath = \"font/simsun.ttc\"\n",
    "    font = ImageFont.truetype(fontpath, 128)\n",
    "    img_pil = Image.fromarray(bk_img)\n",
    "    draw = ImageDraw.Draw(img_pil)\n",
    "    \n",
    "    # 绘制文字信息\n",
    "    draw.text((100, 350),  \"惊！！！\", font=font, fill=(255, 255, 255))\n",
    "    \n",
    "    # 将PIL图像转换为OpenCV图像\n",
    "    bk_img = np.array(img_pil)\n",
    "    \n",
    "    # 显示图片\n",
    "    cv2.imshow(\"add_text\", bk_img)\n",
    "    cv2.waitKey()\n",
    "    \n",
    "    # 保存图片到新文件夹\n",
    "    output_path = os.path.join(output_folder, image_file)\n",
    "    cv2.imwrite(output_path, bk_img)"
   ]
  }
 ],
 "metadata": {
  "kernelspec": {
   "display_name": "Python 3",
   "language": "python",
   "name": "python3"
  },
  "language_info": {
   "codemirror_mode": {
    "name": "ipython",
    "version": 3
   },
   "file_extension": ".py",
   "mimetype": "text/x-python",
   "name": "python",
   "nbconvert_exporter": "python",
   "pygments_lexer": "ipython3",
   "version": "3.11.5"
  }
 },
 "nbformat": 4,
 "nbformat_minor": 2
}
